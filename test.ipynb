{
 "cells": [
  {
   "cell_type": "code",
   "execution_count": 1,
   "metadata": {},
   "outputs": [
    {
     "name": "stderr",
     "output_type": "stream",
     "text": [
      "Traceback (most recent call last):\n",
      "  File \"c:\\Users\\Asus\\OneDrive - Hanoi University of Science and Technology\\DS-AI 01 K66\\Project\\VLSP 2023\\Vietnamese-Spoofing-Aware-Speaker-Verification\\src\\detect_speaker\\train.py\", line 4, in <module>\n",
      "    from dnn.utils import compute_eer, save_pickle\n",
      "ModuleNotFoundError: No module named 'dnn'\n"
     ]
    }
   ],
   "source": [
    "!python src/detect_speaker/train.py"
   ]
  },
  {
   "cell_type": "code",
   "execution_count": null,
   "metadata": {},
   "outputs": [],
   "source": []
  }
 ],
 "metadata": {
  "kernelspec": {
   "display_name": "base",
   "language": "python",
   "name": "python3"
  },
  "language_info": {
   "codemirror_mode": {
    "name": "ipython",
    "version": 3
   },
   "file_extension": ".py",
   "mimetype": "text/x-python",
   "name": "python",
   "nbconvert_exporter": "python",
   "pygments_lexer": "ipython3",
   "version": "3.10.4"
  }
 },
 "nbformat": 4,
 "nbformat_minor": 2
}
