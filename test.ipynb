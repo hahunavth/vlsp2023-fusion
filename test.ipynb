{
 "cells": [
  {
   "cell_type": "code",
   "execution_count": 7,
   "metadata": {},
   "outputs": [
    {
     "ename": "UnboundLocalError",
     "evalue": "local variable 'shape' referenced before assignment",
     "output_type": "error",
     "traceback": [
      "\u001b[1;31m---------------------------------------------------------------------------\u001b[0m",
      "\u001b[1;31mUnboundLocalError\u001b[0m                         Traceback (most recent call last)",
      "\u001b[1;32mc:\\Users\\Asus\\OneDrive - Hanoi University of Science and Technology\\DS-AI 01 K66\\Project\\VLSP 2023\\Vietnamese-Spoofing-Aware-Speaker-Verification\\test.ipynb Cell 1\u001b[0m line \u001b[0;36m5\n\u001b[0;32m      <a href='vscode-notebook-cell:/c%3A/Users/Asus/OneDrive%20-%20Hanoi%20University%20of%20Science%20and%20Technology/DS-AI%2001%20K66/Project/VLSP%202023/Vietnamese-Spoofing-Aware-Speaker-Verification/test.ipynb#W4sZmlsZQ%3D%3D?line=2'>3</a>\u001b[0m rand \u001b[39m=\u001b[39m torch\u001b[39m.\u001b[39mrand((\u001b[39m3\u001b[39m, \u001b[39m2\u001b[39m, \u001b[39m10\u001b[39m))\n\u001b[0;32m      <a href='vscode-notebook-cell:/c%3A/Users/Asus/OneDrive%20-%20Hanoi%20University%20of%20Science%20and%20Technology/DS-AI%2001%20K66/Project/VLSP%202023/Vietnamese-Spoofing-Aware-Speaker-Verification/test.ipynb#W4sZmlsZQ%3D%3D?line=3'>4</a>\u001b[0m obj \u001b[39m=\u001b[39m Maxout(num_units\u001b[39m=\u001b[39m \u001b[39m5\u001b[39m)\n\u001b[1;32m----> <a href='vscode-notebook-cell:/c%3A/Users/Asus/OneDrive%20-%20Hanoi%20University%20of%20Science%20and%20Technology/DS-AI%2001%20K66/Project/VLSP%202023/Vietnamese-Spoofing-Aware-Speaker-Verification/test.ipynb#W4sZmlsZQ%3D%3D?line=4'>5</a>\u001b[0m out \u001b[39m=\u001b[39m obj(rand)\n\u001b[0;32m      <a href='vscode-notebook-cell:/c%3A/Users/Asus/OneDrive%20-%20Hanoi%20University%20of%20Science%20and%20Technology/DS-AI%2001%20K66/Project/VLSP%202023/Vietnamese-Spoofing-Aware-Speaker-Verification/test.ipynb#W4sZmlsZQ%3D%3D?line=5'>6</a>\u001b[0m \u001b[39mprint\u001b[39m(out\u001b[39m.\u001b[39mshape)\n\u001b[0;32m      <a href='vscode-notebook-cell:/c%3A/Users/Asus/OneDrive%20-%20Hanoi%20University%20of%20Science%20and%20Technology/DS-AI%2001%20K66/Project/VLSP%202023/Vietnamese-Spoofing-Aware-Speaker-Verification/test.ipynb#W4sZmlsZQ%3D%3D?line=6'>7</a>\u001b[0m \u001b[39mprint\u001b[39m(\u001b[39m\"\u001b[39m\u001b[39mDONE\u001b[39m\u001b[39m\"\u001b[39m)\n",
      "File \u001b[1;32mc:\\Users\\Asus\\AppData\\Local\\Programs\\Python\\Python310\\lib\\site-packages\\torch\\nn\\modules\\module.py:1501\u001b[0m, in \u001b[0;36mModule._call_impl\u001b[1;34m(self, *args, **kwargs)\u001b[0m\n\u001b[0;32m   1496\u001b[0m \u001b[39m# If we don't have any hooks, we want to skip the rest of the logic in\u001b[39;00m\n\u001b[0;32m   1497\u001b[0m \u001b[39m# this function, and just call forward.\u001b[39;00m\n\u001b[0;32m   1498\u001b[0m \u001b[39mif\u001b[39;00m \u001b[39mnot\u001b[39;00m (\u001b[39mself\u001b[39m\u001b[39m.\u001b[39m_backward_hooks \u001b[39mor\u001b[39;00m \u001b[39mself\u001b[39m\u001b[39m.\u001b[39m_backward_pre_hooks \u001b[39mor\u001b[39;00m \u001b[39mself\u001b[39m\u001b[39m.\u001b[39m_forward_hooks \u001b[39mor\u001b[39;00m \u001b[39mself\u001b[39m\u001b[39m.\u001b[39m_forward_pre_hooks\n\u001b[0;32m   1499\u001b[0m         \u001b[39mor\u001b[39;00m _global_backward_pre_hooks \u001b[39mor\u001b[39;00m _global_backward_hooks\n\u001b[0;32m   1500\u001b[0m         \u001b[39mor\u001b[39;00m _global_forward_hooks \u001b[39mor\u001b[39;00m _global_forward_pre_hooks):\n\u001b[1;32m-> 1501\u001b[0m     \u001b[39mreturn\u001b[39;00m forward_call(\u001b[39m*\u001b[39margs, \u001b[39m*\u001b[39m\u001b[39m*\u001b[39mkwargs)\n\u001b[0;32m   1502\u001b[0m \u001b[39m# Do not call functions when jit is used\u001b[39;00m\n\u001b[0;32m   1503\u001b[0m full_backward_hooks, non_full_backward_hooks \u001b[39m=\u001b[39m [], []\n",
      "File \u001b[1;32mc:\\Users\\Asus\\OneDrive - Hanoi University of Science and Technology\\DS-AI 01 K66\\Project\\VLSP 2023\\Vietnamese-Spoofing-Aware-Speaker-Verification\\src\\fusion\\model\\layers.py:22\u001b[0m, in \u001b[0;36mMaxout.forward\u001b[1;34m(self, input)\u001b[0m\n\u001b[0;32m     19\u001b[0m     num_channels \u001b[39m=\u001b[39m shape[\u001b[39mself\u001b[39m\u001b[39m.\u001b[39maxis]\n\u001b[0;32m     21\u001b[0m \u001b[39mif\u001b[39;00m \u001b[39mself\u001b[39m\u001b[39m.\u001b[39maxis \u001b[39m<\u001b[39m \u001b[39m0\u001b[39m :\n\u001b[1;32m---> 22\u001b[0m     axis \u001b[39m=\u001b[39m \u001b[39mself\u001b[39m\u001b[39m.\u001b[39maxis \u001b[39m+\u001b[39m \u001b[39mlen\u001b[39m(shape)\n\u001b[0;32m     23\u001b[0m \u001b[39melse\u001b[39;00m :\n\u001b[0;32m     24\u001b[0m     axis \u001b[39m=\u001b[39m \u001b[39mself\u001b[39m\u001b[39m.\u001b[39maxis\n",
      "\u001b[1;31mUnboundLocalError\u001b[0m: local variable 'shape' referenced before assignment"
     ]
    }
   ],
   "source": [
    "from src.fusion.model.layers import Maxout\n",
    "import torch\n",
    "rand = torch.rand((3, 2, 10))\n",
    "obj = Maxout(num_units= 5)\n",
    "out = obj(rand)\n",
    "print(out.shape)\n",
    "print(\"DONE\")"
   ]
  },
  {
   "cell_type": "code",
   "execution_count": null,
   "metadata": {},
   "outputs": [],
   "source": []
  }
 ],
 "metadata": {
  "kernelspec": {
   "display_name": "base",
   "language": "python",
   "name": "python3"
  },
  "language_info": {
   "codemirror_mode": {
    "name": "ipython",
    "version": 3
   },
   "file_extension": ".py",
   "mimetype": "text/x-python",
   "name": "python",
   "nbconvert_exporter": "python",
   "pygments_lexer": "ipython3",
   "version": "3.10.4"
  }
 },
 "nbformat": 4,
 "nbformat_minor": 2
}
