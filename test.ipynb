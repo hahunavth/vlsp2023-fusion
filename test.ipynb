{
 "cells": [
  {
   "cell_type": "code",
   "execution_count": 9,
   "metadata": {},
   "outputs": [],
   "source": [
    "# from src.fusion.model.layers import Maxout\n",
    "# import torch\n",
    "# rand = torch.rand((3, 2, 10))\n",
    "# obj = Maxout(num_units= 5)\n",
    "# out = obj(rand)\n",
    "# print(out.shape)\n",
    "# print(\"DONE\")"
   ]
  },
  {
   "cell_type": "code",
   "execution_count": 12,
   "metadata": {},
   "outputs": [
    {
     "name": "stdout",
     "output_type": "stream",
     "text": [
      "Requirement already satisfied: torchsummary in /usr/local/python/3.10.8/lib/python3.10/site-packages (1.5.1)\n",
      "\n",
      "\u001b[1m[\u001b[0m\u001b[34;49mnotice\u001b[0m\u001b[1;39;49m]\u001b[0m\u001b[39;49m A new release of pip is available: \u001b[0m\u001b[31;49m23.3\u001b[0m\u001b[39;49m -> \u001b[0m\u001b[32;49m23.3.1\u001b[0m\n",
      "\u001b[1m[\u001b[0m\u001b[34;49mnotice\u001b[0m\u001b[1;39;49m]\u001b[0m\u001b[39;49m To update, run: \u001b[0m\u001b[32;49mpip install --upgrade pip\u001b[0m\n",
      "Note: you may need to restart the kernel to use updated packages.\n"
     ]
    }
   ],
   "source": [
    "%pip install torchsummary"
   ]
  },
  {
   "cell_type": "code",
   "execution_count": 3,
   "metadata": {},
   "outputs": [
    {
     "data": {
      "text/plain": [
       "['/workspaces/vlsp2023-fusion',\n",
       " '/home/codespace/.python/current/lib/python310.zip',\n",
       " '/home/codespace/.python/current/lib/python3.10',\n",
       " '/home/codespace/.python/current/lib/python3.10/lib-dynload',\n",
       " '',\n",
       " '/home/codespace/.local/lib/python3.10/site-packages',\n",
       " '/home/codespace/.python/current/lib/python3.10/site-packages']"
      ]
     },
     "execution_count": 3,
     "metadata": {},
     "output_type": "execute_result"
    }
   ],
   "source": [
    "import os\n",
    "import sys\n",
    "\n",
    "REPO_DIR=\"/workspaces/vlsp2023-fusion\"\n",
    "\n",
    "if REPO_DIR not in sys.path:\n",
    "    sys.path.append(REPO_DIR)\n",
    "\n",
    "sys.path"
   ]
  },
  {
   "cell_type": "code",
   "execution_count": 4,
   "metadata": {},
   "outputs": [],
   "source": [
    "from src.fusion.LCNN.model.lcnn import LCNN"
   ]
  },
  {
   "cell_type": "code",
   "execution_count": 8,
   "metadata": {},
   "outputs": [
    {
     "name": "stderr",
     "output_type": "stream",
     "text": [
      "/home/codespace/.local/lib/python3.10/site-packages/torch/nn/modules/lazy.py:180: UserWarning: Lazy modules are a new feature under heavy development so changes to the API or functionality can happen at any moment.\n",
      "  warnings.warn('Lazy modules are a new feature under heavy development '\n"
     ]
    },
    {
     "name": "stdout",
     "output_type": "stream",
     "text": [
      "torch.Size([100, 80])\n",
      "torch.Size([100, 2])\n"
     ]
    }
   ],
   "source": [
    "import torch\n",
    "\n",
    "x = torch.rand((100, 3, 160, 100))\n",
    "model = LCNN(input_dim= 3, num_label= 2)\n",
    "last_hidden, out = model(x)\n",
    "\n",
    "print(last_hidden.shape)\n",
    "print(out.shape)"
   ]
  },
  {
   "cell_type": "code",
   "execution_count": 13,
   "metadata": {},
   "outputs": [
    {
     "name": "stdout",
     "output_type": "stream",
     "text": [
      "----------------------------------------------------------------\n",
      "        Layer (type)               Output Shape         Param #\n",
      "================================================================\n",
      "            Conv2d-1         [-1, 64, 160, 100]           4,864\n",
      "            Maxout-2         [-1, 32, 160, 100]               0\n",
      "         MaxPool2d-3           [-1, 32, 80, 50]               0\n",
      "            Conv2d-4           [-1, 64, 80, 50]           2,112\n",
      "            Maxout-5           [-1, 32, 80, 50]               0\n",
      "       BatchNorm2d-6           [-1, 32, 80, 50]              64\n",
      "            Conv2d-7           [-1, 96, 80, 50]          27,744\n",
      "            Maxout-8           [-1, 48, 80, 50]               0\n",
      "         MaxPool2d-9           [-1, 48, 40, 25]               0\n",
      "      BatchNorm2d-10           [-1, 48, 40, 25]              96\n",
      "           Conv2d-11           [-1, 96, 40, 25]           4,704\n",
      "           Maxout-12           [-1, 48, 40, 25]               0\n",
      "      BatchNorm2d-13           [-1, 48, 40, 25]              96\n",
      "           Conv2d-14          [-1, 128, 40, 25]          55,424\n",
      "           Maxout-15           [-1, 64, 40, 25]               0\n",
      "        MaxPool2d-16           [-1, 64, 20, 12]               0\n",
      "           Conv2d-17          [-1, 128, 20, 12]           8,320\n",
      "           Maxout-18           [-1, 64, 20, 12]               0\n",
      "      BatchNorm2d-19           [-1, 64, 20, 12]             128\n",
      "           Conv2d-20           [-1, 64, 20, 12]          36,928\n",
      "           Maxout-21           [-1, 32, 20, 12]               0\n",
      "      BatchNorm2d-22           [-1, 32, 20, 12]              64\n",
      "           Conv2d-23           [-1, 64, 20, 12]           2,112\n",
      "           Maxout-24           [-1, 32, 20, 12]               0\n",
      "      BatchNorm2d-25           [-1, 32, 20, 12]              64\n",
      "           Conv2d-26           [-1, 64, 20, 12]          18,496\n",
      "           Maxout-27           [-1, 32, 20, 12]               0\n",
      "        MaxPool2d-28            [-1, 32, 10, 6]               0\n",
      "           Linear-29                  [-1, 160]         307,360\n",
      "           Maxout-30                   [-1, 80]               0\n",
      "      BatchNorm1d-31                   [-1, 80]             160\n",
      "          Dropout-32                   [-1, 80]               0\n",
      "           Linear-33                    [-1, 2]             162\n",
      "================================================================\n",
      "Total params: 468,898\n",
      "Trainable params: 468,898\n",
      "Non-trainable params: 0\n",
      "----------------------------------------------------------------\n",
      "Input size (MB): 0.18\n",
      "Forward/backward pass size (MB): 25.91\n",
      "Params size (MB): 1.79\n",
      "Estimated Total Size (MB): 27.88\n",
      "----------------------------------------------------------------\n"
     ]
    }
   ],
   "source": [
    "from torchsummary import summary\n",
    "\n",
    "summary(model, ( 3, 160, 100))"
   ]
  }
 ],
 "metadata": {
  "kernelspec": {
   "display_name": "base",
   "language": "python",
   "name": "python3"
  },
  "language_info": {
   "codemirror_mode": {
    "name": "ipython",
    "version": 3
   },
   "file_extension": ".py",
   "mimetype": "text/x-python",
   "name": "python",
   "nbconvert_exporter": "python",
   "pygments_lexer": "ipython3",
   "version": "3.10.4"
  }
 },
 "nbformat": 4,
 "nbformat_minor": 2
}
