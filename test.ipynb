{
 "cells": [
  {
   "cell_type": "code",
   "execution_count": 1,
   "metadata": {},
   "outputs": [
    {
     "name": "stderr",
     "output_type": "stream",
     "text": [
      "'pip' is not recognized as an internal or external command,\n",
      "operable program or batch file.\n"
     ]
    }
   ],
   "source": [
    "!pip install scikit-learn"
   ]
  },
  {
   "cell_type": "code",
   "execution_count": 2,
   "metadata": {},
   "outputs": [
    {
     "name": "stderr",
     "output_type": "stream",
     "text": [
      "Traceback (most recent call last):\n",
      "  File \"c:\\Users\\Asus\\OneDrive - Hanoi University of Science and Technology\\DS-AI 01 K66\\Project\\VLSP 2023\\Vietnamese-Spoofing-Aware-Speaker-Verification\\src\\detect_speaker\\train.py\", line 8, in <module>\n",
      "    from src.dnn.utils import compute_eer, save_pickle\n",
      "  File \"c:\\Users\\Asus\\OneDrive - Hanoi University of Science and Technology\\DS-AI 01 K66\\Project\\VLSP 2023\\Vietnamese-Spoofing-Aware-Speaker-Verification\\src\\dnn\\utils.py\", line 2, in <module>\n",
      "    import sklearn\n",
      "ModuleNotFoundError: No module named 'sklearn'\n"
     ]
    }
   ],
   "source": [
    "!python src/detect_speaker/train.py"
   ]
  },
  {
   "cell_type": "code",
   "execution_count": 5,
   "metadata": {},
   "outputs": [
    {
     "name": "stdout",
     "output_type": "stream",
     "text": [
      "Estimated key length: 5\n"
     ]
    }
   ],
   "source": [
    "def compute_key_length(ciphertext):\n",
    "    ciphertext = ciphertext.upper()  # Convert to uppercase for consistency\n",
    "    text_length = len(ciphertext)\n",
    "\n",
    "    # Calculate IOC for different key lengths from 1 to half the text length\n",
    "    max_key_length = text_length // 2\n",
    "    ioc_values = []\n",
    "\n",
    "    for key_length in range(1, max_key_length + 1):\n",
    "        total_ioc = 0\n",
    "\n",
    "        for shift in range(key_length):\n",
    "            same_count = 0\n",
    "\n",
    "            # Count the number of matching characters at a given interval (key_length)\n",
    "            for i in range(shift, text_length, key_length):\n",
    "                for j in range(i + 1, text_length, key_length):\n",
    "                    if ciphertext[i] == ciphertext[j]:\n",
    "                        same_count += 1\n",
    "\n",
    "            # Calculate IOC for this shift\n",
    "            ioc = same_count / (text_length / key_length * (text_length / key_length - 1))\n",
    "            total_ioc += ioc\n",
    "\n",
    "        # Calculate the average IOC for this key length\n",
    "        average_ioc = total_ioc / key_length\n",
    "        ioc_values.append(average_ioc)\n",
    "\n",
    "    # Find the key length with the highest IOC\n",
    "    estimated_key_length = ioc_values.index(max(ioc_values)) + 1\n",
    "\n",
    "    return estimated_key_length\n",
    "\n",
    "# Example usage:\n",
    "ciphertext = \"GCYCZFMLYLEIM\"\n",
    "key_length = compute_key_length(ciphertext)\n",
    "print(\"Estimated key length:\", key_length)\n"
   ]
  },
  {
   "cell_type": "code",
   "execution_count": null,
   "metadata": {},
   "outputs": [],
   "source": []
  }
 ],
 "metadata": {
  "kernelspec": {
   "display_name": "base",
   "language": "python",
   "name": "python3"
  },
  "language_info": {
   "codemirror_mode": {
    "name": "ipython",
    "version": 3
   },
   "file_extension": ".py",
   "mimetype": "text/x-python",
   "name": "python",
   "nbconvert_exporter": "python",
   "pygments_lexer": "ipython3",
   "version": "3.10.4"
  }
 },
 "nbformat": 4,
 "nbformat_minor": 2
}
